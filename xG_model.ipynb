{
 "cells": [
  {
   "cell_type": "markdown",
   "metadata": {},
   "source": [
    "# Модель для расчета xG\n",
    "\n",
    "Будем решать задачу бинарной классификации. В качестве xG получим вероятность принадлежности события к классу 1 (забит гол)."
   ]
  },
  {
   "cell_type": "code",
   "execution_count": 36,
   "metadata": {},
   "outputs": [],
   "source": [
    "import pandas as pd\n",
    "import numpy as np\n",
    "\n",
    "from xgboost import XGBClassifier\n",
    "from matplotlib import pyplot as plt\n",
    "\n",
    "from sklearn import preprocessing\n",
    "from sklearn.metrics import roc_auc_score\n",
    "from sklearn.metrics import log_loss\n",
    "from sklearn.metrics import average_precision_score\n",
    "from sklearn.model_selection import train_test_split\n",
    "from sklearn.model_selection import GridSearchCV\n",
    "from sklearn.decomposition import PCA\n",
    "\n",
    "# Библиотека imblearn для работы с несбалансированными данными\n",
    "from imblearn.over_sampling import SMOTE\n",
    "\n",
    "\n"
   ]
  },
  {
   "cell_type": "markdown",
   "metadata": {},
   "source": [
    "## Анализ и предобработка данных"
   ]
  },
  {
   "cell_type": "markdown",
   "metadata": {},
   "source": [
    "Считаем данные в pandas dataframe и посмотрим на них и их форму"
   ]
  },
  {
   "cell_type": "code",
   "execution_count": 2,
   "metadata": {},
   "outputs": [],
   "source": [
    "raw_data = pd.read_csv('shots.csv')"
   ]
  },
  {
   "cell_type": "code",
   "execution_count": 3,
   "metadata": {},
   "outputs": [
    {
     "data": {
      "text/plain": [
       "(14410, 11)"
      ]
     },
     "execution_count": 3,
     "metadata": {},
     "output_type": "execute_result"
    }
   ],
   "source": [
    "raw_data.shape"
   ]
  },
  {
   "cell_type": "code",
   "execution_count": 4,
   "metadata": {},
   "outputs": [
    {
     "data": {
      "text/html": [
       "<div>\n",
       "<style scoped>\n",
       "    .dataframe tbody tr th:only-of-type {\n",
       "        vertical-align: middle;\n",
       "    }\n",
       "\n",
       "    .dataframe tbody tr th {\n",
       "        vertical-align: top;\n",
       "    }\n",
       "\n",
       "    .dataframe thead th {\n",
       "        text-align: right;\n",
       "    }\n",
       "</style>\n",
       "<table border=\"1\" class=\"dataframe\">\n",
       "  <thead>\n",
       "    <tr style=\"text-align: right;\">\n",
       "      <th></th>\n",
       "      <th>event</th>\n",
       "      <th>is_goal</th>\n",
       "      <th>period</th>\n",
       "      <th>time</th>\n",
       "      <th>distance</th>\n",
       "      <th>angle</th>\n",
       "      <th>is_rebound</th>\n",
       "      <th>is_pass_before</th>\n",
       "      <th>is_cross_line</th>\n",
       "      <th>is_one_touch</th>\n",
       "      <th>is_fast_attack</th>\n",
       "    </tr>\n",
       "  </thead>\n",
       "  <tbody>\n",
       "    <tr>\n",
       "      <th>0</th>\n",
       "      <td>Shot Attempt - Wide left</td>\n",
       "      <td>False</td>\n",
       "      <td>1</td>\n",
       "      <td>1071.6</td>\n",
       "      <td>17.4</td>\n",
       "      <td>44.492971</td>\n",
       "      <td>False</td>\n",
       "      <td>False</td>\n",
       "      <td>False</td>\n",
       "      <td>False</td>\n",
       "      <td>False</td>\n",
       "    </tr>\n",
       "    <tr>\n",
       "      <th>1</th>\n",
       "      <td>Shot Attempt - Blocked</td>\n",
       "      <td>False</td>\n",
       "      <td>1</td>\n",
       "      <td>519.2</td>\n",
       "      <td>12.9</td>\n",
       "      <td>46.694647</td>\n",
       "      <td>False</td>\n",
       "      <td>False</td>\n",
       "      <td>False</td>\n",
       "      <td>False</td>\n",
       "      <td>False</td>\n",
       "    </tr>\n",
       "    <tr>\n",
       "      <th>2</th>\n",
       "      <td>Shot Attempt - Deflected</td>\n",
       "      <td>False</td>\n",
       "      <td>2</td>\n",
       "      <td>742.9</td>\n",
       "      <td>20.6</td>\n",
       "      <td>59.284706</td>\n",
       "      <td>False</td>\n",
       "      <td>False</td>\n",
       "      <td>False</td>\n",
       "      <td>False</td>\n",
       "      <td>False</td>\n",
       "    </tr>\n",
       "    <tr>\n",
       "      <th>3</th>\n",
       "      <td>Shot Attempt - Blocked</td>\n",
       "      <td>False</td>\n",
       "      <td>1</td>\n",
       "      <td>210.1</td>\n",
       "      <td>16.6</td>\n",
       "      <td>5.419532</td>\n",
       "      <td>False</td>\n",
       "      <td>True</td>\n",
       "      <td>False</td>\n",
       "      <td>True</td>\n",
       "      <td>False</td>\n",
       "    </tr>\n",
       "    <tr>\n",
       "      <th>4</th>\n",
       "      <td>Shot Attempt - Deflected</td>\n",
       "      <td>False</td>\n",
       "      <td>2</td>\n",
       "      <td>599.1</td>\n",
       "      <td>20.1</td>\n",
       "      <td>64.221569</td>\n",
       "      <td>False</td>\n",
       "      <td>False</td>\n",
       "      <td>False</td>\n",
       "      <td>False</td>\n",
       "      <td>False</td>\n",
       "    </tr>\n",
       "    <tr>\n",
       "      <th>5</th>\n",
       "      <td>Shot Attempt - Blocked</td>\n",
       "      <td>False</td>\n",
       "      <td>3</td>\n",
       "      <td>313.4</td>\n",
       "      <td>7.6</td>\n",
       "      <td>0.671568</td>\n",
       "      <td>False</td>\n",
       "      <td>False</td>\n",
       "      <td>False</td>\n",
       "      <td>False</td>\n",
       "      <td>False</td>\n",
       "    </tr>\n",
       "    <tr>\n",
       "      <th>6</th>\n",
       "      <td>Shot Attempt - Blocked</td>\n",
       "      <td>False</td>\n",
       "      <td>1</td>\n",
       "      <td>473.4</td>\n",
       "      <td>23.7</td>\n",
       "      <td>54.610680</td>\n",
       "      <td>False</td>\n",
       "      <td>False</td>\n",
       "      <td>False</td>\n",
       "      <td>False</td>\n",
       "      <td>False</td>\n",
       "    </tr>\n",
       "    <tr>\n",
       "      <th>7</th>\n",
       "      <td>Shot Attempt - Wide right</td>\n",
       "      <td>False</td>\n",
       "      <td>3</td>\n",
       "      <td>157.0</td>\n",
       "      <td>14.3</td>\n",
       "      <td>58.172553</td>\n",
       "      <td>False</td>\n",
       "      <td>True</td>\n",
       "      <td>False</td>\n",
       "      <td>True</td>\n",
       "      <td>False</td>\n",
       "    </tr>\n",
       "    <tr>\n",
       "      <th>8</th>\n",
       "      <td>Shot Attempt - Blocked</td>\n",
       "      <td>False</td>\n",
       "      <td>1</td>\n",
       "      <td>69.7</td>\n",
       "      <td>20.7</td>\n",
       "      <td>63.690162</td>\n",
       "      <td>False</td>\n",
       "      <td>False</td>\n",
       "      <td>False</td>\n",
       "      <td>False</td>\n",
       "      <td>False</td>\n",
       "    </tr>\n",
       "    <tr>\n",
       "      <th>9</th>\n",
       "      <td>Shot Attempt - Lower right</td>\n",
       "      <td>True</td>\n",
       "      <td>1</td>\n",
       "      <td>879.5</td>\n",
       "      <td>3.6</td>\n",
       "      <td>32.195734</td>\n",
       "      <td>False</td>\n",
       "      <td>False</td>\n",
       "      <td>True</td>\n",
       "      <td>False</td>\n",
       "      <td>False</td>\n",
       "    </tr>\n",
       "  </tbody>\n",
       "</table>\n",
       "</div>"
      ],
      "text/plain": [
       "                        event  is_goal  period    time  distance      angle  \\\n",
       "0    Shot Attempt - Wide left    False       1  1071.6      17.4  44.492971   \n",
       "1      Shot Attempt - Blocked    False       1   519.2      12.9  46.694647   \n",
       "2    Shot Attempt - Deflected    False       2   742.9      20.6  59.284706   \n",
       "3      Shot Attempt - Blocked    False       1   210.1      16.6   5.419532   \n",
       "4    Shot Attempt - Deflected    False       2   599.1      20.1  64.221569   \n",
       "5      Shot Attempt - Blocked    False       3   313.4       7.6   0.671568   \n",
       "6      Shot Attempt - Blocked    False       1   473.4      23.7  54.610680   \n",
       "7   Shot Attempt - Wide right    False       3   157.0      14.3  58.172553   \n",
       "8      Shot Attempt - Blocked    False       1    69.7      20.7  63.690162   \n",
       "9  Shot Attempt - Lower right     True       1   879.5       3.6  32.195734   \n",
       "\n",
       "   is_rebound  is_pass_before  is_cross_line  is_one_touch  is_fast_attack  \n",
       "0       False           False          False         False           False  \n",
       "1       False           False          False         False           False  \n",
       "2       False           False          False         False           False  \n",
       "3       False            True          False          True           False  \n",
       "4       False           False          False         False           False  \n",
       "5       False           False          False         False           False  \n",
       "6       False           False          False         False           False  \n",
       "7       False            True          False          True           False  \n",
       "8       False           False          False         False           False  \n",
       "9       False           False           True         False           False  "
      ]
     },
     "execution_count": 4,
     "metadata": {},
     "output_type": "execute_result"
    }
   ],
   "source": [
    "raw_data.head(10)"
   ]
  },
  {
   "cell_type": "markdown",
   "metadata": {},
   "source": [
    "Проверим, нет ли пропущенных данных"
   ]
  },
  {
   "cell_type": "code",
   "execution_count": 30,
   "metadata": {},
   "outputs": [
    {
     "data": {
      "text/plain": [
       "False"
      ]
     },
     "execution_count": 30,
     "metadata": {},
     "output_type": "execute_result"
    }
   ],
   "source": [
    "raw_data.isnull().values.any()"
   ]
  },
  {
   "cell_type": "markdown",
   "metadata": {},
   "source": [
    "Посмотрим на таблицу корреляции"
   ]
  },
  {
   "cell_type": "code",
   "execution_count": 31,
   "metadata": {},
   "outputs": [
    {
     "data": {
      "text/html": [
       "<div>\n",
       "<style scoped>\n",
       "    .dataframe tbody tr th:only-of-type {\n",
       "        vertical-align: middle;\n",
       "    }\n",
       "\n",
       "    .dataframe tbody tr th {\n",
       "        vertical-align: top;\n",
       "    }\n",
       "\n",
       "    .dataframe thead th {\n",
       "        text-align: right;\n",
       "    }\n",
       "</style>\n",
       "<table border=\"1\" class=\"dataframe\">\n",
       "  <thead>\n",
       "    <tr style=\"text-align: right;\">\n",
       "      <th></th>\n",
       "      <th>is_goal</th>\n",
       "      <th>period</th>\n",
       "      <th>time</th>\n",
       "      <th>distance</th>\n",
       "      <th>angle</th>\n",
       "      <th>is_rebound</th>\n",
       "      <th>is_pass_before</th>\n",
       "      <th>is_cross_line</th>\n",
       "      <th>is_one_touch</th>\n",
       "      <th>is_fast_attack</th>\n",
       "    </tr>\n",
       "  </thead>\n",
       "  <tbody>\n",
       "    <tr>\n",
       "      <th>is_goal</th>\n",
       "      <td>1.000000</td>\n",
       "      <td>0.005795</td>\n",
       "      <td>0.004147</td>\n",
       "      <td>-0.162372</td>\n",
       "      <td>-0.006920</td>\n",
       "      <td>0.134554</td>\n",
       "      <td>0.038783</td>\n",
       "      <td>0.063968</td>\n",
       "      <td>0.104040</td>\n",
       "      <td>-0.030788</td>\n",
       "    </tr>\n",
       "    <tr>\n",
       "      <th>period</th>\n",
       "      <td>0.005795</td>\n",
       "      <td>1.000000</td>\n",
       "      <td>-0.019372</td>\n",
       "      <td>0.036188</td>\n",
       "      <td>0.000494</td>\n",
       "      <td>-0.006507</td>\n",
       "      <td>0.002162</td>\n",
       "      <td>0.002583</td>\n",
       "      <td>0.008407</td>\n",
       "      <td>-0.005033</td>\n",
       "    </tr>\n",
       "    <tr>\n",
       "      <th>time</th>\n",
       "      <td>0.004147</td>\n",
       "      <td>-0.019372</td>\n",
       "      <td>1.000000</td>\n",
       "      <td>-0.030159</td>\n",
       "      <td>-0.010308</td>\n",
       "      <td>0.014880</td>\n",
       "      <td>0.014812</td>\n",
       "      <td>0.015033</td>\n",
       "      <td>0.018167</td>\n",
       "      <td>-0.016269</td>\n",
       "    </tr>\n",
       "    <tr>\n",
       "      <th>distance</th>\n",
       "      <td>-0.162372</td>\n",
       "      <td>0.036188</td>\n",
       "      <td>-0.030159</td>\n",
       "      <td>1.000000</td>\n",
       "      <td>0.261968</td>\n",
       "      <td>-0.275493</td>\n",
       "      <td>-0.013634</td>\n",
       "      <td>-0.123294</td>\n",
       "      <td>-0.167065</td>\n",
       "      <td>0.082289</td>\n",
       "    </tr>\n",
       "    <tr>\n",
       "      <th>angle</th>\n",
       "      <td>-0.006920</td>\n",
       "      <td>0.000494</td>\n",
       "      <td>-0.010308</td>\n",
       "      <td>0.261968</td>\n",
       "      <td>1.000000</td>\n",
       "      <td>-0.046842</td>\n",
       "      <td>0.108705</td>\n",
       "      <td>0.118778</td>\n",
       "      <td>0.080740</td>\n",
       "      <td>0.038751</td>\n",
       "    </tr>\n",
       "    <tr>\n",
       "      <th>is_rebound</th>\n",
       "      <td>0.134554</td>\n",
       "      <td>-0.006507</td>\n",
       "      <td>0.014880</td>\n",
       "      <td>-0.275493</td>\n",
       "      <td>-0.046842</td>\n",
       "      <td>1.000000</td>\n",
       "      <td>-0.085215</td>\n",
       "      <td>0.065985</td>\n",
       "      <td>0.322959</td>\n",
       "      <td>-0.093079</td>\n",
       "    </tr>\n",
       "    <tr>\n",
       "      <th>is_pass_before</th>\n",
       "      <td>0.038783</td>\n",
       "      <td>0.002162</td>\n",
       "      <td>0.014812</td>\n",
       "      <td>-0.013634</td>\n",
       "      <td>0.108705</td>\n",
       "      <td>-0.085215</td>\n",
       "      <td>1.000000</td>\n",
       "      <td>0.291032</td>\n",
       "      <td>0.754175</td>\n",
       "      <td>-0.138111</td>\n",
       "    </tr>\n",
       "    <tr>\n",
       "      <th>is_cross_line</th>\n",
       "      <td>0.063968</td>\n",
       "      <td>0.002583</td>\n",
       "      <td>0.015033</td>\n",
       "      <td>-0.123294</td>\n",
       "      <td>0.118778</td>\n",
       "      <td>0.065985</td>\n",
       "      <td>0.291032</td>\n",
       "      <td>1.000000</td>\n",
       "      <td>0.293534</td>\n",
       "      <td>0.027301</td>\n",
       "    </tr>\n",
       "    <tr>\n",
       "      <th>is_one_touch</th>\n",
       "      <td>0.104040</td>\n",
       "      <td>0.008407</td>\n",
       "      <td>0.018167</td>\n",
       "      <td>-0.167065</td>\n",
       "      <td>0.080740</td>\n",
       "      <td>0.322959</td>\n",
       "      <td>0.754175</td>\n",
       "      <td>0.293534</td>\n",
       "      <td>1.000000</td>\n",
       "      <td>-0.188334</td>\n",
       "    </tr>\n",
       "    <tr>\n",
       "      <th>is_fast_attack</th>\n",
       "      <td>-0.030788</td>\n",
       "      <td>-0.005033</td>\n",
       "      <td>-0.016269</td>\n",
       "      <td>0.082289</td>\n",
       "      <td>0.038751</td>\n",
       "      <td>-0.093079</td>\n",
       "      <td>-0.138111</td>\n",
       "      <td>0.027301</td>\n",
       "      <td>-0.188334</td>\n",
       "      <td>1.000000</td>\n",
       "    </tr>\n",
       "  </tbody>\n",
       "</table>\n",
       "</div>"
      ],
      "text/plain": [
       "                 is_goal    period      time  distance     angle  is_rebound  \\\n",
       "is_goal         1.000000  0.005795  0.004147 -0.162372 -0.006920    0.134554   \n",
       "period          0.005795  1.000000 -0.019372  0.036188  0.000494   -0.006507   \n",
       "time            0.004147 -0.019372  1.000000 -0.030159 -0.010308    0.014880   \n",
       "distance       -0.162372  0.036188 -0.030159  1.000000  0.261968   -0.275493   \n",
       "angle          -0.006920  0.000494 -0.010308  0.261968  1.000000   -0.046842   \n",
       "is_rebound      0.134554 -0.006507  0.014880 -0.275493 -0.046842    1.000000   \n",
       "is_pass_before  0.038783  0.002162  0.014812 -0.013634  0.108705   -0.085215   \n",
       "is_cross_line   0.063968  0.002583  0.015033 -0.123294  0.118778    0.065985   \n",
       "is_one_touch    0.104040  0.008407  0.018167 -0.167065  0.080740    0.322959   \n",
       "is_fast_attack -0.030788 -0.005033 -0.016269  0.082289  0.038751   -0.093079   \n",
       "\n",
       "                is_pass_before  is_cross_line  is_one_touch  is_fast_attack  \n",
       "is_goal               0.038783       0.063968      0.104040       -0.030788  \n",
       "period                0.002162       0.002583      0.008407       -0.005033  \n",
       "time                  0.014812       0.015033      0.018167       -0.016269  \n",
       "distance             -0.013634      -0.123294     -0.167065        0.082289  \n",
       "angle                 0.108705       0.118778      0.080740        0.038751  \n",
       "is_rebound           -0.085215       0.065985      0.322959       -0.093079  \n",
       "is_pass_before        1.000000       0.291032      0.754175       -0.138111  \n",
       "is_cross_line         0.291032       1.000000      0.293534        0.027301  \n",
       "is_one_touch          0.754175       0.293534      1.000000       -0.188334  \n",
       "is_fast_attack       -0.138111       0.027301     -0.188334        1.000000  "
      ]
     },
     "execution_count": 31,
     "metadata": {},
     "output_type": "execute_result"
    }
   ],
   "source": [
    "raw_data.corr()"
   ]
  },
  {
   "cell_type": "markdown",
   "metadata": {},
   "source": [
    "Видно, что все признаци довольно слабо коррелируют с целевым показателем "
   ]
  },
  {
   "cell_type": "code",
   "execution_count": 34,
   "metadata": {},
   "outputs": [],
   "source": [
    "y = raw_data.is_goal\n",
    "data = raw_data.drop(['event','is_goal'], axis = 1)"
   ]
  },
  {
   "cell_type": "markdown",
   "metadata": {},
   "source": [
    "Отобразим данные в двумерное пространство и визуализируем их"
   ]
  },
  {
   "cell_type": "code",
   "execution_count": 35,
   "metadata": {},
   "outputs": [],
   "source": [
    "#функция для построения графика\n",
    "\n",
    "def plot_2d_space(X, y, label='Classes'):   \n",
    "    colors = ['#1F77B4', '#FF7F0E']\n",
    "    markers = ['o', 's']\n",
    "    for l, c, m in zip(np.unique(y), colors, markers):\n",
    "        plt.scatter(\n",
    "            X[y==l, 0],\n",
    "            X[y==l, 1],\n",
    "            c=c, label=l, marker=m\n",
    "        )\n",
    "    plt.title(label)\n",
    "    plt.legend(loc='upper right')\n",
    "    plt.show()"
   ]
  },
  {
   "cell_type": "code",
   "execution_count": 37,
   "metadata": {},
   "outputs": [
    {
     "data": {
      "image/png": "[encoded data removed]",
      "text/plain": [
       "<Figure size 432x288 with 1 Axes>"
      ]
     },
     "metadata": {},
     "output_type": "display_data"
    }
   ],
   "source": [
    "pca = PCA(n_components=2)\n",
    "X = pca.fit_transform(data)\n",
    "\n",
    "plot_2d_space(X, y, 'dataset (2 PCA components)')"
   ]
  },
  {
   "cell_type": "markdown",
   "metadata": {},
   "source": [
    "Визуализируем распределение классов"
   ]
  },
  {
   "cell_type": "code",
   "execution_count": 38,
   "metadata": {},
   "outputs": [
    {
     "data": {
      "image/png": "[encoded data removed]",
      "text/plain": [
       "<Figure size 432x288 with 1 Axes>"
      ]
     },
     "metadata": {},
     "output_type": "display_data"
    }
   ],
   "source": [
    "first_len = raw_data[raw_data['is_goal'] == False].shape[0]\n",
    "second_len = raw_data[raw_data['is_goal'] == True].shape[0]\n",
    "\n",
    "plt.bar(10,first_len,3, label=\"False\")\n",
    "plt.bar(15,second_len,3, label=\"True\")\n",
    "plt.legend()\n",
    "plt.ylabel('Number of examples')\n",
    "plt.title('Proportion of examples')\n",
    "plt.show()"
   ]
  },
  {
   "cell_type": "markdown",
   "metadata": {},
   "source": [
    "Видно, что датасет несбалансирован. Применим over-sampling."
   ]
  },
  {
   "cell_type": "code",
   "execution_count": 39,
   "metadata": {},
   "outputs": [],
   "source": [
    "y = y.apply(lambda x: int(x))\n",
    "data.loc[:, 'is_rebound':] = data.loc[:,'is_rebound':].apply(lambda x: [int(y) for y in x])"
   ]
  },
  {
   "cell_type": "code",
   "execution_count": 40,
   "metadata": {},
   "outputs": [],
   "source": [
    "#Используем SMOTE over-sampling из библиотеки imblearn\n",
    "smote = SMOTE(ratio='minority')\n",
    "X_sm, y_sm = smote.fit_sample(data, y)"
   ]
  },
  {
   "cell_type": "markdown",
   "metadata": {},
   "source": [
    "Разделим данные на обучающие и тестовые"
   ]
  },
  {
   "cell_type": "code",
   "execution_count": 41,
   "metadata": {},
   "outputs": [],
   "source": [
    "X_train, X_test, y_train, y_test = train_test_split(X_sm, y_sm, test_size=0.10, random_state=42)"
   ]
  },
  {
   "cell_type": "markdown",
   "metadata": {},
   "source": [
    "Из анализа данных видно, что линейные модели не смогут показать хороший результат. Попробуем исползовать градиентный бустинг."
   ]
  },
  {
   "cell_type": "markdown",
   "metadata": {},
   "source": [
    "## Обучение модели"
   ]
  },
  {
   "cell_type": "markdown",
   "metadata": {},
   "source": [
    "Будем подбирать параметры с помощью GridSearch с кросс валидацией на 5 фолдов."
   ]
  },
  {
   "cell_type": "code",
   "execution_count": 14,
   "metadata": {},
   "outputs": [
    {
     "name": "stdout",
     "output_type": "stream",
     "text": [
      "Fitting 5 folds for each of 20 candidates, totalling 100 fits\n",
      "[CV] learning_rate=0.01, max_depth=4, n_estimators=250, n_jobs=-1, nthread=16, objective=binary:logistic, seed=42 \n",
      "[CV]  learning_rate=0.01, max_depth=4, n_estimators=250, n_jobs=-1, nthread=16, objective=binary:logistic, seed=42, total=   2.0s\n",
      "[CV] learning_rate=0.01, max_depth=4, n_estimators=250, n_jobs=-1, nthread=16, objective=binary:logistic, seed=42 \n"
     ]
    },
    {
     "name": "stderr",
     "output_type": "stream",
     "text": [
      "[Parallel(n_jobs=1)]: Done   1 out of   1 | elapsed:    2.1s remaining:    0.0s\n"
     ]
    },
    {
     "name": "stdout",
     "output_type": "stream",
     "text": [
      "[CV]  learning_rate=0.01, max_depth=4, n_estimators=250, n_jobs=-1, nthread=16, objective=binary:logistic, seed=42, total=   1.8s\n",
      "[CV] learning_rate=0.01, max_depth=4, n_estimators=250, n_jobs=-1, nthread=16, objective=binary:logistic, seed=42 \n",
      "[CV]  learning_rate=0.01, max_depth=4, n_estimators=250, n_jobs=-1, nthread=16, objective=binary:logistic, seed=42, total=   1.8s\n",
      "[CV] learning_rate=0.01, max_depth=4, n_estimators=250, n_jobs=-1, nthread=16, objective=binary:logistic, seed=42 \n",
      "[CV]  learning_rate=0.01, max_depth=4, n_estimators=250, n_jobs=-1, nthread=16, objective=binary:logistic, seed=42, total=   1.6s\n",
      "[CV] learning_rate=0.01, max_depth=4, n_estimators=250, n_jobs=-1, nthread=16, objective=binary:logistic, seed=42 \n",
      "[CV]  learning_rate=0.01, max_depth=4, n_estimators=250, n_jobs=-1, nthread=16, objective=binary:logistic, seed=42, total=   1.8s\n",
      "[CV] learning_rate=0.01, max_depth=4, n_estimators=500, n_jobs=-1, nthread=16, objective=binary:logistic, seed=42 \n",
      "[CV]  learning_rate=0.01, max_depth=4, n_estimators=500, n_jobs=-1, nthread=16, objective=binary:logistic, seed=42, total=   3.6s\n",
      "[CV] learning_rate=0.01, max_depth=4, n_estimators=500, n_jobs=-1, nthread=16, objective=binary:logistic, seed=42 \n",
      "[CV]  learning_rate=0.01, max_depth=4, n_estimators=500, n_jobs=-1, nthread=16, objective=binary:logistic, seed=42, total=   3.5s\n",
      "[CV] learning_rate=0.01, max_depth=4, n_estimators=500, n_jobs=-1, nthread=16, objective=binary:logistic, seed=42 \n",
      "[CV]  learning_rate=0.01, max_depth=4, n_estimators=500, n_jobs=-1, nthread=16, objective=binary:logistic, seed=42, total=   3.3s\n",
      "[CV] learning_rate=0.01, max_depth=4, n_estimators=500, n_jobs=-1, nthread=16, objective=binary:logistic, seed=42 \n",
      "[CV]  learning_rate=0.01, max_depth=4, n_estimators=500, n_jobs=-1, nthread=16, objective=binary:logistic, seed=42, total=   3.6s\n",
      "[CV] learning_rate=0.01, max_depth=4, n_estimators=500, n_jobs=-1, nthread=16, objective=binary:logistic, seed=42 \n",
      "[CV]  learning_rate=0.01, max_depth=4, n_estimators=500, n_jobs=-1, nthread=16, objective=binary:logistic, seed=42, total=   3.4s\n",
      "[CV] learning_rate=0.01, max_depth=4, n_estimators=1000, n_jobs=-1, nthread=16, objective=binary:logistic, seed=42 \n",
      "[CV]  learning_rate=0.01, max_depth=4, n_estimators=1000, n_jobs=-1, nthread=16, objective=binary:logistic, seed=42, total=   6.9s\n",
      "[CV] learning_rate=0.01, max_depth=4, n_estimators=1000, n_jobs=-1, nthread=16, objective=binary:logistic, seed=42 \n",
      "[CV]  learning_rate=0.01, max_depth=4, n_estimators=1000, n_jobs=-1, nthread=16, objective=binary:logistic, seed=42, total=   6.8s\n",
      "[CV] learning_rate=0.01, max_depth=4, n_estimators=1000, n_jobs=-1, nthread=16, objective=binary:logistic, seed=42 \n",
      "[CV]  learning_rate=0.01, max_depth=4, n_estimators=1000, n_jobs=-1, nthread=16, objective=binary:logistic, seed=42, total=   6.8s\n",
      "[CV] learning_rate=0.01, max_depth=4, n_estimators=1000, n_jobs=-1, nthread=16, objective=binary:logistic, seed=42 \n",
      "[CV]  learning_rate=0.01, max_depth=4, n_estimators=1000, n_jobs=-1, nthread=16, objective=binary:logistic, seed=42, total=   6.8s\n",
      "[CV] learning_rate=0.01, max_depth=4, n_estimators=1000, n_jobs=-1, nthread=16, objective=binary:logistic, seed=42 \n",
      "[CV]  learning_rate=0.01, max_depth=4, n_estimators=1000, n_jobs=-1, nthread=16, objective=binary:logistic, seed=42, total=   7.0s\n",
      "[CV] learning_rate=0.01, max_depth=4, n_estimators=2000, n_jobs=-1, nthread=16, objective=binary:logistic, seed=42 \n",
      "[CV]  learning_rate=0.01, max_depth=4, n_estimators=2000, n_jobs=-1, nthread=16, objective=binary:logistic, seed=42, total=  13.4s\n",
      "[CV] learning_rate=0.01, max_depth=4, n_estimators=2000, n_jobs=-1, nthread=16, objective=binary:logistic, seed=42 \n",
      "[CV]  learning_rate=0.01, max_depth=4, n_estimators=2000, n_jobs=-1, nthread=16, objective=binary:logistic, seed=42, total=  13.4s\n",
      "[CV] learning_rate=0.01, max_depth=4, n_estimators=2000, n_jobs=-1, nthread=16, objective=binary:logistic, seed=42 \n",
      "[CV]  learning_rate=0.01, max_depth=4, n_estimators=2000, n_jobs=-1, nthread=16, objective=binary:logistic, seed=42, total=  13.6s\n",
      "[CV] learning_rate=0.01, max_depth=4, n_estimators=2000, n_jobs=-1, nthread=16, objective=binary:logistic, seed=42 \n",
      "[CV]  learning_rate=0.01, max_depth=4, n_estimators=2000, n_jobs=-1, nthread=16, objective=binary:logistic, seed=42, total=  13.5s\n",
      "[CV] learning_rate=0.01, max_depth=4, n_estimators=2000, n_jobs=-1, nthread=16, objective=binary:logistic, seed=42 \n",
      "[CV]  learning_rate=0.01, max_depth=4, n_estimators=2000, n_jobs=-1, nthread=16, objective=binary:logistic, seed=42, total=  13.4s\n",
      "[CV] learning_rate=0.01, max_depth=5, n_estimators=250, n_jobs=-1, nthread=16, objective=binary:logistic, seed=42 \n",
      "[CV]  learning_rate=0.01, max_depth=5, n_estimators=250, n_jobs=-1, nthread=16, objective=binary:logistic, seed=42, total=   2.1s\n",
      "[CV] learning_rate=0.01, max_depth=5, n_estimators=250, n_jobs=-1, nthread=16, objective=binary:logistic, seed=42 \n",
      "[CV]  learning_rate=0.01, max_depth=5, n_estimators=250, n_jobs=-1, nthread=16, objective=binary:logistic, seed=42, total=   2.1s\n",
      "[CV] learning_rate=0.01, max_depth=5, n_estimators=250, n_jobs=-1, nthread=16, objective=binary:logistic, seed=42 \n",
      "[CV]  learning_rate=0.01, max_depth=5, n_estimators=250, n_jobs=-1, nthread=16, objective=binary:logistic, seed=42, total=   2.1s\n",
      "[CV] learning_rate=0.01, max_depth=5, n_estimators=250, n_jobs=-1, nthread=16, objective=binary:logistic, seed=42 \n",
      "[CV]  learning_rate=0.01, max_depth=5, n_estimators=250, n_jobs=-1, nthread=16, objective=binary:logistic, seed=42, total=   2.2s\n",
      "[CV] learning_rate=0.01, max_depth=5, n_estimators=250, n_jobs=-1, nthread=16, objective=binary:logistic, seed=42 \n",
      "[CV]  learning_rate=0.01, max_depth=5, n_estimators=250, n_jobs=-1, nthread=16, objective=binary:logistic, seed=42, total=   2.0s\n",
      "[CV] learning_rate=0.01, max_depth=5, n_estimators=500, n_jobs=-1, nthread=16, objective=binary:logistic, seed=42 \n",
      "[CV]  learning_rate=0.01, max_depth=5, n_estimators=500, n_jobs=-1, nthread=16, objective=binary:logistic, seed=42, total=   4.2s\n",
      "[CV] learning_rate=0.01, max_depth=5, n_estimators=500, n_jobs=-1, nthread=16, objective=binary:logistic, seed=42 \n",
      "[CV]  learning_rate=0.01, max_depth=5, n_estimators=500, n_jobs=-1, nthread=16, objective=binary:logistic, seed=42, total=   4.2s\n",
      "[CV] learning_rate=0.01, max_depth=5, n_estimators=500, n_jobs=-1, nthread=16, objective=binary:logistic, seed=42 \n",
      "[CV]  learning_rate=0.01, max_depth=5, n_estimators=500, n_jobs=-1, nthread=16, objective=binary:logistic, seed=42, total=   4.3s\n",
      "[CV] learning_rate=0.01, max_depth=5, n_estimators=500, n_jobs=-1, nthread=16, objective=binary:logistic, seed=42 \n",
      "[CV]  learning_rate=0.01, max_depth=5, n_estimators=500, n_jobs=-1, nthread=16, objective=binary:logistic, seed=42, total=   4.2s\n",
      "[CV] learning_rate=0.01, max_depth=5, n_estimators=500, n_jobs=-1, nthread=16, objective=binary:logistic, seed=42 \n",
      "[CV]  learning_rate=0.01, max_depth=5, n_estimators=500, n_jobs=-1, nthread=16, objective=binary:logistic, seed=42, total=   4.2s\n",
      "[CV] learning_rate=0.01, max_depth=5, n_estimators=1000, n_jobs=-1, nthread=16, objective=binary:logistic, seed=42 \n",
      "[CV]  learning_rate=0.01, max_depth=5, n_estimators=1000, n_jobs=-1, nthread=16, objective=binary:logistic, seed=42, total=   8.4s\n",
      "[CV] learning_rate=0.01, max_depth=5, n_estimators=1000, n_jobs=-1, nthread=16, objective=binary:logistic, seed=42 \n",
      "[CV]  learning_rate=0.01, max_depth=5, n_estimators=1000, n_jobs=-1, nthread=16, objective=binary:logistic, seed=42, total=   8.5s\n",
      "[CV] learning_rate=0.01, max_depth=5, n_estimators=1000, n_jobs=-1, nthread=16, objective=binary:logistic, seed=42 \n",
      "[CV]  learning_rate=0.01, max_depth=5, n_estimators=1000, n_jobs=-1, nthread=16, objective=binary:logistic, seed=42, total=   8.5s\n",
      "[CV] learning_rate=0.01, max_depth=5, n_estimators=1000, n_jobs=-1, nthread=16, objective=binary:logistic, seed=42 \n",
      "[CV]  learning_rate=0.01, max_depth=5, n_estimators=1000, n_jobs=-1, nthread=16, objective=binary:logistic, seed=42, total=   8.5s\n",
      "[CV] learning_rate=0.01, max_depth=5, n_estimators=1000, n_jobs=-1, nthread=16, objective=binary:logistic, seed=42 \n",
      "[CV]  learning_rate=0.01, max_depth=5, n_estimators=1000, n_jobs=-1, nthread=16, objective=binary:logistic, seed=42, total=   8.4s\n",
      "[CV] learning_rate=0.01, max_depth=5, n_estimators=2000, n_jobs=-1, nthread=16, objective=binary:logistic, seed=42 \n"
     ]
    },
    {
     "name": "stdout",
     "output_type": "stream",
     "text": [
      "[CV]  learning_rate=0.01, max_depth=5, n_estimators=2000, n_jobs=-1, nthread=16, objective=binary:logistic, seed=42, total=  16.7s\n",
      "[CV] learning_rate=0.01, max_depth=5, n_estimators=2000, n_jobs=-1, nthread=16, objective=binary:logistic, seed=42 \n",
      "[CV]  learning_rate=0.01, max_depth=5, n_estimators=2000, n_jobs=-1, nthread=16, objective=binary:logistic, seed=42, total=  16.9s\n",
      "[CV] learning_rate=0.01, max_depth=5, n_estimators=2000, n_jobs=-1, nthread=16, objective=binary:logistic, seed=42 \n",
      "[CV]  learning_rate=0.01, max_depth=5, n_estimators=2000, n_jobs=-1, nthread=16, objective=binary:logistic, seed=42, total=  17.1s\n",
      "[CV] learning_rate=0.01, max_depth=5, n_estimators=2000, n_jobs=-1, nthread=16, objective=binary:logistic, seed=42 \n",
      "[CV]  learning_rate=0.01, max_depth=5, n_estimators=2000, n_jobs=-1, nthread=16, objective=binary:logistic, seed=42, total=  17.4s\n",
      "[CV] learning_rate=0.01, max_depth=5, n_estimators=2000, n_jobs=-1, nthread=16, objective=binary:logistic, seed=42 \n",
      "[CV]  learning_rate=0.01, max_depth=5, n_estimators=2000, n_jobs=-1, nthread=16, objective=binary:logistic, seed=42, total=  16.6s\n",
      "[CV] learning_rate=0.01, max_depth=6, n_estimators=250, n_jobs=-1, nthread=16, objective=binary:logistic, seed=42 \n",
      "[CV]  learning_rate=0.01, max_depth=6, n_estimators=250, n_jobs=-1, nthread=16, objective=binary:logistic, seed=42, total=   2.6s\n",
      "[CV] learning_rate=0.01, max_depth=6, n_estimators=250, n_jobs=-1, nthread=16, objective=binary:logistic, seed=42 \n",
      "[CV]  learning_rate=0.01, max_depth=6, n_estimators=250, n_jobs=-1, nthread=16, objective=binary:logistic, seed=42, total=   2.5s\n",
      "[CV] learning_rate=0.01, max_depth=6, n_estimators=250, n_jobs=-1, nthread=16, objective=binary:logistic, seed=42 \n",
      "[CV]  learning_rate=0.01, max_depth=6, n_estimators=250, n_jobs=-1, nthread=16, objective=binary:logistic, seed=42, total=   2.6s\n",
      "[CV] learning_rate=0.01, max_depth=6, n_estimators=250, n_jobs=-1, nthread=16, objective=binary:logistic, seed=42 \n",
      "[CV]  learning_rate=0.01, max_depth=6, n_estimators=250, n_jobs=-1, nthread=16, objective=binary:logistic, seed=42, total=   2.6s\n",
      "[CV] learning_rate=0.01, max_depth=6, n_estimators=250, n_jobs=-1, nthread=16, objective=binary:logistic, seed=42 \n",
      "[CV]  learning_rate=0.01, max_depth=6, n_estimators=250, n_jobs=-1, nthread=16, objective=binary:logistic, seed=42, total=   2.7s\n",
      "[CV] learning_rate=0.01, max_depth=6, n_estimators=500, n_jobs=-1, nthread=16, objective=binary:logistic, seed=42 \n",
      "[CV]  learning_rate=0.01, max_depth=6, n_estimators=500, n_jobs=-1, nthread=16, objective=binary:logistic, seed=42, total=   5.1s\n",
      "[CV] learning_rate=0.01, max_depth=6, n_estimators=500, n_jobs=-1, nthread=16, objective=binary:logistic, seed=42 \n",
      "[CV]  learning_rate=0.01, max_depth=6, n_estimators=500, n_jobs=-1, nthread=16, objective=binary:logistic, seed=42, total=   5.0s\n",
      "[CV] learning_rate=0.01, max_depth=6, n_estimators=500, n_jobs=-1, nthread=16, objective=binary:logistic, seed=42 \n",
      "[CV]  learning_rate=0.01, max_depth=6, n_estimators=500, n_jobs=-1, nthread=16, objective=binary:logistic, seed=42, total=   5.2s\n",
      "[CV] learning_rate=0.01, max_depth=6, n_estimators=500, n_jobs=-1, nthread=16, objective=binary:logistic, seed=42 \n",
      "[CV]  learning_rate=0.01, max_depth=6, n_estimators=500, n_jobs=-1, nthread=16, objective=binary:logistic, seed=42, total=   5.0s\n",
      "[CV] learning_rate=0.01, max_depth=6, n_estimators=500, n_jobs=-1, nthread=16, objective=binary:logistic, seed=42 \n",
      "[CV]  learning_rate=0.01, max_depth=6, n_estimators=500, n_jobs=-1, nthread=16, objective=binary:logistic, seed=42, total=   5.1s\n",
      "[CV] learning_rate=0.01, max_depth=6, n_estimators=1000, n_jobs=-1, nthread=16, objective=binary:logistic, seed=42 \n",
      "[CV]  learning_rate=0.01, max_depth=6, n_estimators=1000, n_jobs=-1, nthread=16, objective=binary:logistic, seed=42, total=   9.9s\n",
      "[CV] learning_rate=0.01, max_depth=6, n_estimators=1000, n_jobs=-1, nthread=16, objective=binary:logistic, seed=42 \n",
      "[CV]  learning_rate=0.01, max_depth=6, n_estimators=1000, n_jobs=-1, nthread=16, objective=binary:logistic, seed=42, total=  10.0s\n",
      "[CV] learning_rate=0.01, max_depth=6, n_estimators=1000, n_jobs=-1, nthread=16, objective=binary:logistic, seed=42 \n",
      "[CV]  learning_rate=0.01, max_depth=6, n_estimators=1000, n_jobs=-1, nthread=16, objective=binary:logistic, seed=42, total=   9.8s\n",
      "[CV] learning_rate=0.01, max_depth=6, n_estimators=1000, n_jobs=-1, nthread=16, objective=binary:logistic, seed=42 \n",
      "[CV]  learning_rate=0.01, max_depth=6, n_estimators=1000, n_jobs=-1, nthread=16, objective=binary:logistic, seed=42, total=   9.7s\n",
      "[CV] learning_rate=0.01, max_depth=6, n_estimators=1000, n_jobs=-1, nthread=16, objective=binary:logistic, seed=42 \n",
      "[CV]  learning_rate=0.01, max_depth=6, n_estimators=1000, n_jobs=-1, nthread=16, objective=binary:logistic, seed=42, total=  10.0s\n",
      "[CV] learning_rate=0.01, max_depth=6, n_estimators=2000, n_jobs=-1, nthread=16, objective=binary:logistic, seed=42 \n",
      "[CV]  learning_rate=0.01, max_depth=6, n_estimators=2000, n_jobs=-1, nthread=16, objective=binary:logistic, seed=42, total=  19.6s\n",
      "[CV] learning_rate=0.01, max_depth=6, n_estimators=2000, n_jobs=-1, nthread=16, objective=binary:logistic, seed=42 \n",
      "[CV]  learning_rate=0.01, max_depth=6, n_estimators=2000, n_jobs=-1, nthread=16, objective=binary:logistic, seed=42, total=  19.6s\n",
      "[CV] learning_rate=0.01, max_depth=6, n_estimators=2000, n_jobs=-1, nthread=16, objective=binary:logistic, seed=42 \n",
      "[CV]  learning_rate=0.01, max_depth=6, n_estimators=2000, n_jobs=-1, nthread=16, objective=binary:logistic, seed=42, total=  20.1s\n",
      "[CV] learning_rate=0.01, max_depth=6, n_estimators=2000, n_jobs=-1, nthread=16, objective=binary:logistic, seed=42 \n",
      "[CV]  learning_rate=0.01, max_depth=6, n_estimators=2000, n_jobs=-1, nthread=16, objective=binary:logistic, seed=42, total=  19.7s\n",
      "[CV] learning_rate=0.01, max_depth=6, n_estimators=2000, n_jobs=-1, nthread=16, objective=binary:logistic, seed=42 \n",
      "[CV]  learning_rate=0.01, max_depth=6, n_estimators=2000, n_jobs=-1, nthread=16, objective=binary:logistic, seed=42, total=  19.6s\n",
      "[CV] learning_rate=0.01, max_depth=7, n_estimators=250, n_jobs=-1, nthread=16, objective=binary:logistic, seed=42 \n",
      "[CV]  learning_rate=0.01, max_depth=7, n_estimators=250, n_jobs=-1, nthread=16, objective=binary:logistic, seed=42, total=   3.0s\n",
      "[CV] learning_rate=0.01, max_depth=7, n_estimators=250, n_jobs=-1, nthread=16, objective=binary:logistic, seed=42 \n",
      "[CV]  learning_rate=0.01, max_depth=7, n_estimators=250, n_jobs=-1, nthread=16, objective=binary:logistic, seed=42, total=   2.9s\n",
      "[CV] learning_rate=0.01, max_depth=7, n_estimators=250, n_jobs=-1, nthread=16, objective=binary:logistic, seed=42 \n",
      "[CV]  learning_rate=0.01, max_depth=7, n_estimators=250, n_jobs=-1, nthread=16, objective=binary:logistic, seed=42, total=   3.1s\n",
      "[CV] learning_rate=0.01, max_depth=7, n_estimators=250, n_jobs=-1, nthread=16, objective=binary:logistic, seed=42 \n",
      "[CV]  learning_rate=0.01, max_depth=7, n_estimators=250, n_jobs=-1, nthread=16, objective=binary:logistic, seed=42, total=   2.9s\n",
      "[CV] learning_rate=0.01, max_depth=7, n_estimators=250, n_jobs=-1, nthread=16, objective=binary:logistic, seed=42 \n",
      "[CV]  learning_rate=0.01, max_depth=7, n_estimators=250, n_jobs=-1, nthread=16, objective=binary:logistic, seed=42, total=   2.9s\n",
      "[CV] learning_rate=0.01, max_depth=7, n_estimators=500, n_jobs=-1, nthread=16, objective=binary:logistic, seed=42 \n",
      "[CV]  learning_rate=0.01, max_depth=7, n_estimators=500, n_jobs=-1, nthread=16, objective=binary:logistic, seed=42, total=   5.9s\n",
      "[CV] learning_rate=0.01, max_depth=7, n_estimators=500, n_jobs=-1, nthread=16, objective=binary:logistic, seed=42 \n",
      "[CV]  learning_rate=0.01, max_depth=7, n_estimators=500, n_jobs=-1, nthread=16, objective=binary:logistic, seed=42, total=   5.9s\n",
      "[CV] learning_rate=0.01, max_depth=7, n_estimators=500, n_jobs=-1, nthread=16, objective=binary:logistic, seed=42 \n",
      "[CV]  learning_rate=0.01, max_depth=7, n_estimators=500, n_jobs=-1, nthread=16, objective=binary:logistic, seed=42, total=   5.9s\n",
      "[CV] learning_rate=0.01, max_depth=7, n_estimators=500, n_jobs=-1, nthread=16, objective=binary:logistic, seed=42 \n",
      "[CV]  learning_rate=0.01, max_depth=7, n_estimators=500, n_jobs=-1, nthread=16, objective=binary:logistic, seed=42, total=   5.7s\n",
      "[CV] learning_rate=0.01, max_depth=7, n_estimators=500, n_jobs=-1, nthread=16, objective=binary:logistic, seed=42 \n"
     ]
    },
    {
     "name": "stdout",
     "output_type": "stream",
     "text": [
      "[CV]  learning_rate=0.01, max_depth=7, n_estimators=500, n_jobs=-1, nthread=16, objective=binary:logistic, seed=42, total=   6.0s\n",
      "[CV] learning_rate=0.01, max_depth=7, n_estimators=1000, n_jobs=-1, nthread=16, objective=binary:logistic, seed=42 \n",
      "[CV]  learning_rate=0.01, max_depth=7, n_estimators=1000, n_jobs=-1, nthread=16, objective=binary:logistic, seed=42, total=  11.4s\n",
      "[CV] learning_rate=0.01, max_depth=7, n_estimators=1000, n_jobs=-1, nthread=16, objective=binary:logistic, seed=42 \n",
      "[CV]  learning_rate=0.01, max_depth=7, n_estimators=1000, n_jobs=-1, nthread=16, objective=binary:logistic, seed=42, total=  11.6s\n",
      "[CV] learning_rate=0.01, max_depth=7, n_estimators=1000, n_jobs=-1, nthread=16, objective=binary:logistic, seed=42 \n",
      "[CV]  learning_rate=0.01, max_depth=7, n_estimators=1000, n_jobs=-1, nthread=16, objective=binary:logistic, seed=42, total=  11.5s\n",
      "[CV] learning_rate=0.01, max_depth=7, n_estimators=1000, n_jobs=-1, nthread=16, objective=binary:logistic, seed=42 \n",
      "[CV]  learning_rate=0.01, max_depth=7, n_estimators=1000, n_jobs=-1, nthread=16, objective=binary:logistic, seed=42, total=  11.9s\n",
      "[CV] learning_rate=0.01, max_depth=7, n_estimators=1000, n_jobs=-1, nthread=16, objective=binary:logistic, seed=42 \n",
      "[CV]  learning_rate=0.01, max_depth=7, n_estimators=1000, n_jobs=-1, nthread=16, objective=binary:logistic, seed=42, total=  11.7s\n",
      "[CV] learning_rate=0.01, max_depth=7, n_estimators=2000, n_jobs=-1, nthread=16, objective=binary:logistic, seed=42 \n",
      "[CV]  learning_rate=0.01, max_depth=7, n_estimators=2000, n_jobs=-1, nthread=16, objective=binary:logistic, seed=42, total=  22.9s\n",
      "[CV] learning_rate=0.01, max_depth=7, n_estimators=2000, n_jobs=-1, nthread=16, objective=binary:logistic, seed=42 \n",
      "[CV]  learning_rate=0.01, max_depth=7, n_estimators=2000, n_jobs=-1, nthread=16, objective=binary:logistic, seed=42, total=  22.9s\n",
      "[CV] learning_rate=0.01, max_depth=7, n_estimators=2000, n_jobs=-1, nthread=16, objective=binary:logistic, seed=42 \n",
      "[CV]  learning_rate=0.01, max_depth=7, n_estimators=2000, n_jobs=-1, nthread=16, objective=binary:logistic, seed=42, total=  22.9s\n",
      "[CV] learning_rate=0.01, max_depth=7, n_estimators=2000, n_jobs=-1, nthread=16, objective=binary:logistic, seed=42 \n",
      "[CV]  learning_rate=0.01, max_depth=7, n_estimators=2000, n_jobs=-1, nthread=16, objective=binary:logistic, seed=42, total=  22.8s\n",
      "[CV] learning_rate=0.01, max_depth=7, n_estimators=2000, n_jobs=-1, nthread=16, objective=binary:logistic, seed=42 \n",
      "[CV]  learning_rate=0.01, max_depth=7, n_estimators=2000, n_jobs=-1, nthread=16, objective=binary:logistic, seed=42, total=  22.6s\n",
      "[CV] learning_rate=0.01, max_depth=8, n_estimators=250, n_jobs=-1, nthread=16, objective=binary:logistic, seed=42 \n",
      "[CV]  learning_rate=0.01, max_depth=8, n_estimators=250, n_jobs=-1, nthread=16, objective=binary:logistic, seed=42, total=   3.4s\n",
      "[CV] learning_rate=0.01, max_depth=8, n_estimators=250, n_jobs=-1, nthread=16, objective=binary:logistic, seed=42 \n",
      "[CV]  learning_rate=0.01, max_depth=8, n_estimators=250, n_jobs=-1, nthread=16, objective=binary:logistic, seed=42, total=   3.4s\n",
      "[CV] learning_rate=0.01, max_depth=8, n_estimators=250, n_jobs=-1, nthread=16, objective=binary:logistic, seed=42 \n",
      "[CV]  learning_rate=0.01, max_depth=8, n_estimators=250, n_jobs=-1, nthread=16, objective=binary:logistic, seed=42, total=   3.2s\n",
      "[CV] learning_rate=0.01, max_depth=8, n_estimators=250, n_jobs=-1, nthread=16, objective=binary:logistic, seed=42 \n",
      "[CV]  learning_rate=0.01, max_depth=8, n_estimators=250, n_jobs=-1, nthread=16, objective=binary:logistic, seed=42, total=   3.4s\n",
      "[CV] learning_rate=0.01, max_depth=8, n_estimators=250, n_jobs=-1, nthread=16, objective=binary:logistic, seed=42 \n",
      "[CV]  learning_rate=0.01, max_depth=8, n_estimators=250, n_jobs=-1, nthread=16, objective=binary:logistic, seed=42, total=   3.2s\n",
      "[CV] learning_rate=0.01, max_depth=8, n_estimators=500, n_jobs=-1, nthread=16, objective=binary:logistic, seed=42 \n",
      "[CV]  learning_rate=0.01, max_depth=8, n_estimators=500, n_jobs=-1, nthread=16, objective=binary:logistic, seed=42, total=   6.6s\n",
      "[CV] learning_rate=0.01, max_depth=8, n_estimators=500, n_jobs=-1, nthread=16, objective=binary:logistic, seed=42 \n",
      "[CV]  learning_rate=0.01, max_depth=8, n_estimators=500, n_jobs=-1, nthread=16, objective=binary:logistic, seed=42, total=   6.6s\n",
      "[CV] learning_rate=0.01, max_depth=8, n_estimators=500, n_jobs=-1, nthread=16, objective=binary:logistic, seed=42 \n",
      "[CV]  learning_rate=0.01, max_depth=8, n_estimators=500, n_jobs=-1, nthread=16, objective=binary:logistic, seed=42, total=   6.6s\n",
      "[CV] learning_rate=0.01, max_depth=8, n_estimators=500, n_jobs=-1, nthread=16, objective=binary:logistic, seed=42 \n",
      "[CV]  learning_rate=0.01, max_depth=8, n_estimators=500, n_jobs=-1, nthread=16, objective=binary:logistic, seed=42, total=   6.6s\n",
      "[CV] learning_rate=0.01, max_depth=8, n_estimators=500, n_jobs=-1, nthread=16, objective=binary:logistic, seed=42 \n",
      "[CV]  learning_rate=0.01, max_depth=8, n_estimators=500, n_jobs=-1, nthread=16, objective=binary:logistic, seed=42, total=   6.6s\n",
      "[CV] learning_rate=0.01, max_depth=8, n_estimators=1000, n_jobs=-1, nthread=16, objective=binary:logistic, seed=42 \n",
      "[CV]  learning_rate=0.01, max_depth=8, n_estimators=1000, n_jobs=-1, nthread=16, objective=binary:logistic, seed=42, total=  13.0s\n",
      "[CV] learning_rate=0.01, max_depth=8, n_estimators=1000, n_jobs=-1, nthread=16, objective=binary:logistic, seed=42 \n",
      "[CV]  learning_rate=0.01, max_depth=8, n_estimators=1000, n_jobs=-1, nthread=16, objective=binary:logistic, seed=42, total=  13.0s\n",
      "[CV] learning_rate=0.01, max_depth=8, n_estimators=1000, n_jobs=-1, nthread=16, objective=binary:logistic, seed=42 \n",
      "[CV]  learning_rate=0.01, max_depth=8, n_estimators=1000, n_jobs=-1, nthread=16, objective=binary:logistic, seed=42, total=  13.0s\n",
      "[CV] learning_rate=0.01, max_depth=8, n_estimators=1000, n_jobs=-1, nthread=16, objective=binary:logistic, seed=42 \n",
      "[CV]  learning_rate=0.01, max_depth=8, n_estimators=1000, n_jobs=-1, nthread=16, objective=binary:logistic, seed=42, total=  13.1s\n",
      "[CV] learning_rate=0.01, max_depth=8, n_estimators=1000, n_jobs=-1, nthread=16, objective=binary:logistic, seed=42 \n",
      "[CV]  learning_rate=0.01, max_depth=8, n_estimators=1000, n_jobs=-1, nthread=16, objective=binary:logistic, seed=42, total=  13.0s\n",
      "[CV] learning_rate=0.01, max_depth=8, n_estimators=2000, n_jobs=-1, nthread=16, objective=binary:logistic, seed=42 \n",
      "[CV]  learning_rate=0.01, max_depth=8, n_estimators=2000, n_jobs=-1, nthread=16, objective=binary:logistic, seed=42, total=  25.7s\n",
      "[CV] learning_rate=0.01, max_depth=8, n_estimators=2000, n_jobs=-1, nthread=16, objective=binary:logistic, seed=42 \n",
      "[CV]  learning_rate=0.01, max_depth=8, n_estimators=2000, n_jobs=-1, nthread=16, objective=binary:logistic, seed=42, total=  25.7s\n",
      "[CV] learning_rate=0.01, max_depth=8, n_estimators=2000, n_jobs=-1, nthread=16, objective=binary:logistic, seed=42 \n",
      "[CV]  learning_rate=0.01, max_depth=8, n_estimators=2000, n_jobs=-1, nthread=16, objective=binary:logistic, seed=42, total=  26.5s\n",
      "[CV] learning_rate=0.01, max_depth=8, n_estimators=2000, n_jobs=-1, nthread=16, objective=binary:logistic, seed=42 \n",
      "[CV]  learning_rate=0.01, max_depth=8, n_estimators=2000, n_jobs=-1, nthread=16, objective=binary:logistic, seed=42, total=  26.0s\n",
      "[CV] learning_rate=0.01, max_depth=8, n_estimators=2000, n_jobs=-1, nthread=16, objective=binary:logistic, seed=42 \n",
      "[CV]  learning_rate=0.01, max_depth=8, n_estimators=2000, n_jobs=-1, nthread=16, objective=binary:logistic, seed=42, total=  25.5s\n"
     ]
    },
    {
     "name": "stderr",
     "output_type": "stream",
     "text": [
      "[Parallel(n_jobs=1)]: Done 100 out of 100 | elapsed: 16.0min finished\n"
     ]
    },
    {
     "data": {
      "text/plain": [
       "GridSearchCV(cv=5, error_score='raise',\n",
       "       estimator=XGBClassifier(base_score=0.5, booster='gbtree', colsample_bylevel=1,\n",
       "       colsample_bytree=1, gamma=0, learning_rate=0.1, max_delta_step=0,\n",
       "       max_depth=3, min_child_weight=1, missing=None, n_estimators=100,\n",
       "       n_jobs=1, nthread=None, objective='binary:logistic', random_state=0,\n",
       "       reg_alpha=0, reg_lambda=1, scale_pos_weight=1, seed=None,\n",
       "       silent=True, subsample=1),\n",
       "       fit_params=None, iid=True, n_jobs=1,\n",
       "       param_grid={'nthread': [16], 'objective': ['binary:logistic'], 'max_depth': [4, 5, 6, 7, 8], 'learning_rate': [0.01], 'n_estimators': [250, 500, 1000, 2000], 'seed': [42], 'n_jobs': [-1]},\n",
       "       pre_dispatch='2*n_jobs', refit=True, return_train_score='warn',\n",
       "       scoring='neg_log_loss', verbose=2)"
      ]
     },
     "execution_count": 14,
     "metadata": {},
     "output_type": "execute_result"
    }
   ],
   "source": [
    "parameters = {\n",
    "    'nthread': [16],\n",
    "    'objective': ['binary:logistic'],\n",
    "    'max_depth': [4, 5, 6, 7, 8],\n",
    "    'learning_rate': [0.01],\n",
    "    'n_estimators': [250, 500, 1000, 2000],\n",
    "    'seed': [42]\n",
    "}\n",
    "\n",
    "classifier = XGBClassifier()\n",
    "classifier = GridSearchCV(classifier, parameters,cv=5, scoring='neg_log_loss', verbose=2)\n",
    "classifier.fit(X_train, y_train)"
   ]
  },
  {
   "cell_type": "markdown",
   "metadata": {},
   "source": [
    "## Оценка качества"
   ]
  },
  {
   "cell_type": "markdown",
   "metadata": {},
   "source": [
    "Посчитаем предсказания на отложенной выборке и определим AUC-ROC, AUC-PR и log loss"
   ]
  },
  {
   "cell_type": "code",
   "execution_count": 43,
   "metadata": {},
   "outputs": [],
   "source": [
    "y_pred = classifier.predict_proba(X_test)"
   ]
  },
  {
   "cell_type": "code",
   "execution_count": 45,
   "metadata": {},
   "outputs": [
    {
     "name": "stdout",
     "output_type": "stream",
     "text": [
      "AUC-ROC: 0.9865116015918562\n"
     ]
    }
   ],
   "source": [
    "auc_roc = roc_auc_score(y_test, y_pred[:, 1])\n",
    "\n",
    "print('AUC-ROC: {}'.format(auc_roc))"
   ]
  },
  {
   "cell_type": "code",
   "execution_count": 46,
   "metadata": {},
   "outputs": [
    {
     "name": "stdout",
     "output_type": "stream",
     "text": [
      "AUC-PR: 0.990278300400286.\n"
     ]
    }
   ],
   "source": [
    "auc_pr = average_precision_score(y_test, y_pred[:, 1])\n",
    "\n",
    "print('AUC-PR: {}.'.format(auc_pr))"
   ]
  },
  {
   "cell_type": "code",
   "execution_count": 47,
   "metadata": {},
   "outputs": [
    {
     "name": "stdout",
     "output_type": "stream",
     "text": [
      "Log loss: 0.1156601823877278.\n"
     ]
    }
   ],
   "source": [
    "log_loss = log_loss(y_test, y_pred[:, 1])\n",
    "\n",
    "print('Log loss: {}.'.format(log_loss))"
   ]
  },
  {
   "cell_type": "code",
   "execution_count": null,
   "metadata": {
    "collapsed": true
   },
   "outputs": [],
   "source": []
  }
 ],
 "metadata": {
  "anaconda-cloud": {},
  "kernelspec": {
   "display_name": "Python 3",
   "language": "python",
   "name": "python3"
  },
  "language_info": {
   "codemirror_mode": {
    "name": "ipython",
    "version": 3
   },
   "file_extension": ".py",
   "mimetype": "text/x-python",
   "name": "python",
   "nbconvert_exporter": "python",
   "pygments_lexer": "ipython3",
   "version": "3.6.5"
  }
 },
 "nbformat": 4,
 "nbformat_minor": 1
}
